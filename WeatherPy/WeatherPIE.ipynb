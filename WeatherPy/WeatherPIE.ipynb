{
 "cells": [
  {
   "cell_type": "code",
   "execution_count": null,
   "metadata": {},
   "outputs": [],
   "source": []
  },
  {
   "cell_type": "code",
   "execution_count": null,
   "metadata": {},
   "outputs": [],
   "source": []
  },
  {
   "cell_type": "code",
   "execution_count": null,
   "metadata": {},
   "outputs": [],
   "source": []
  },
  {
   "cell_type": "code",
   "execution_count": null,
   "metadata": {},
   "outputs": [],
   "source": [
    "###Your final notebook must:\n",
    "\n",
    "##* Include a print log of each city as it's being processed with the city number and city name.\n",
    "##* Save a CSV of all retrieved data and a PNG image for each scatter plot."
   ]
  },
  {
   "cell_type": "code",
   "execution_count": null,
   "metadata": {},
   "outputs": [],
   "source": [
    "##*The city data you generate is based on random coordinates as well as different query times;\n",
    "##as such, your outputs will not be an exact match to the provided starter notebook.\n",
    "\n",
    "##You may want to start this assignment by refreshing yourself on the [geographic coordinate system](http://desktop.arcgis.com/en/arcmap/10.3/guide-books/map-projections/about-geographic-coordinate-systems.htm).\n",
    "\n",
    "##Next, spend the requisite time necessary to study the OpenWeatherMap API.\n",
    "##Based on your initial study, you should be able to answer  basic questions about the API: \n",
    "\n",
    "#Where do you request the API key?\n",
    "#Which Weather API in particular will you need?\n",
    "#What URL endpoints does it expect?\n",
    "#What JSON structure does it respond with?\n",
    "#Before you write a line of code, you should be aiming to have a crystal clear understanding of your intended outcome.\n",
    "\n",
    "##A starter code for Citipy has been provided. However, if you're craving an extra challenge, push yourself to learn how it works: [citipy Python library](https://pypi.python.org/pypi/citipy). \n",
    "##Before you try to incorporate the library into your analysis, start by creating simple test cases outside your main script to confirm that you are using it correctly.\n",
    "##Too often, when introduced to a new library, students get bogged down by the most minor of errors -- spending hours investigating their entire code -- when, in fact, a simple and focused test would have shown their basic utilization of the library was wrong from the start. Don't let this be you!\n",
    "\n",
    "##Part of our expectation in this challenge is that you will use critical thinking skills to understand how and why we're recommending the tools we are. What is Citipy for? Why would you use it in conjunction with the OpenWeatherMap API? How would you do so?\n",
    "\n",
    "##In building your script, pay attention to the cities you are using in your query pool.\n",
    "##Are you getting coverage of the full gamut of latitudes and longitudes?\n",
    "##Or are you simply choosing 500 cities concentrated in one region of the world?\n",
    "##Even if you were a geographic genius, simply rattling 500 cities based on your human selection would create a biased dataset.\n",
    "##Be thinking of how you should counter this. (Hint: Consider the full range of latitudes).\n",
    "\n",
    "##Once you have computed the linear regression for one chart, the process will be similar for all others. As a bonus, try to create a function that will create these charts based on different parameters.\n",
    "\n",
    "##Remember that each coordinate will trigger a separate call to the Google API. If you're creating your own criteria to plan your vacation, try to reduce the results in your DataFrame to 10 or fewer cities.\n",
    "\n",
    "##Lastly, remember -- this is a challenging activity. Push yourself!\n",
    "##If you complete this task, then you can safely say that you've gained a strong mastery of the core foundations of data analytics and it will only go better from here. Good luck!\n"
   ]
  }
 ],
 "metadata": {
  "kernelspec": {
   "display_name": "Python [conda env:root] *",
   "language": "python",
   "name": "conda-root-py"
  },
  "language_info": {
   "codemirror_mode": {
    "name": "ipython",
    "version": 3
   },
   "file_extension": ".py",
   "mimetype": "text/x-python",
   "name": "python",
   "nbconvert_exporter": "python",
   "pygments_lexer": "ipython3",
   "version": "3.7.6"
  }
 },
 "nbformat": 4,
 "nbformat_minor": 4
}
